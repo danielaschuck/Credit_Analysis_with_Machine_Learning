{
  "nbformat": 4,
  "nbformat_minor": 0,
  "metadata": {
    "colab": {
      "provenance": []
    },
    "kernelspec": {
      "name": "python3",
      "display_name": "Python 3"
    },
    "language_info": {
      "name": "python"
    }
  },
  "cells": [
    {
      "cell_type": "code",
      "execution_count": 22,
      "metadata": {
        "colab": {
          "base_uri": "https://localhost:8080/",
          "height": 837
        },
        "id": "mKgPZ9Y29qO6",
        "outputId": "9d532e85-162d-4bbd-e9da-eff0fe81ad77"
      },
      "outputs": [
        {
          "output_type": "stream",
          "name": "stdout",
          "text": [
            "Formas dos conjuntos de dados:\n",
            "Treinamento - X: (14, 3), y: (14,)\n",
            "Teste - X: (4, 3), y: (4,)\n",
            "\n",
            "Distribuição das classes no conjunto original:\n",
            "(array(['Não Paga', 'Paga'], dtype=object), array([ 5, 13]))\n",
            "\n",
            "Distribuição das classes no conjunto de treinamento:\n",
            "(array(['Não Paga', 'Paga'], dtype=object), array([ 4, 10]))\n",
            "\n",
            "Distribuição das classes no conjunto de teste:\n",
            "(array(['Não Paga', 'Paga'], dtype=object), array([1, 3]))\n",
            "\n",
            "Acurácia do modelo: 75.00%\n",
            "\n",
            "Matriz de Confusão:\n",
            "[[1 0]\n",
            " [1 2]]\n"
          ]
        },
        {
          "output_type": "display_data",
          "data": {
            "text/plain": [
              "<Figure size 640x480 with 2 Axes>"
            ],
            "image/png": "[encoded data removed]"
          },
          "metadata": {}
        },
        {
          "output_type": "stream",
          "name": "stdout",
          "text": [
            "\n",
            "Percentual de acerto para pessoas que pagam o empréstimo: 100.00%\n",
            "Percentual de acerto para pessoas que não pagam o empréstimo: 66.67%\n"
          ]
        }
      ],
      "source": [
        "import numpy as np\n",
        "import pandas as pd\n",
        "from sklearn.model_selection import train_test_split\n",
        "from sklearn.naive_bayes import GaussianNB\n",
        "from sklearn.metrics import accuracy_score, confusion_matrix\n",
        "import seaborn as sns\n",
        "import matplotlib.pyplot as plt\n",
        "\n",
        "data = {\n",
        "    'Renda': [50000, 60000, 35000, 25000, 80000, 120000, 70000, 22000, 95000, 45000, 62000, 38000, 55000, 72000, 42000, 68000, 59000, 49000],\n",
        "    'Idade': [25, 35, 45, 20, 55, 30, 40, 23, 50, 33, 28, 42, 30, 35, 29, 31, 27, 38],\n",
        "    'Divida': [20000, 5000, 15000, 8000, 0, 0, 10000, 3000, 500, 12000, 7000, 18000, 9000, 15000, 8000, 12000, 10000, 6000],\n",
        "    'Classe': ['Não Paga', 'Paga', 'Não Paga', 'Paga', 'Paga', 'Paga', 'Não Paga', 'Paga', 'Paga', 'Não Paga', 'Paga', 'Paga', 'Paga', 'Paga', 'Não Paga', 'Paga', 'Paga', 'Paga']\n",
        "}\n",
        "\n",
        "df = pd.DataFrame(data)\n",
        "\n",
        "# Separar características (X) e a variável alvo (y)\n",
        "X = df[['Renda', 'Idade', 'Divida']]\n",
        "y = df['Classe']\n",
        "\n",
        "# Divisão dos dados com amostragem estratificada\n",
        "X_treinamento, X_teste, y_treinamento, y_teste = train_test_split(X, y, test_size=0.2, stratify=y, random_state=42)\n",
        "\n",
        "# Verificar formas dos conjuntos\n",
        "print(\"Formas dos conjuntos de dados:\")\n",
        "print(f\"Treinamento - X: {X_treinamento.shape}, y: {y_treinamento.shape}\")\n",
        "print(f\"Teste - X: {X_teste.shape}, y: {y_teste.shape}\")\n",
        "\n",
        "# Verificar distribuição das classes\n",
        "print(\"\\nDistribuição das classes no conjunto original:\")\n",
        "print(np.unique(y, return_counts=True))\n",
        "\n",
        "print(\"\\nDistribuição das classes no conjunto de treinamento:\")\n",
        "print(np.unique(y_treinamento, return_counts=True))\n",
        "\n",
        "print(\"\\nDistribuição das classes no conjunto de teste:\")\n",
        "print(np.unique(y_teste, return_counts=True))\n",
        "\n",
        "# Treinamento do modelo Naive Bayes\n",
        "modelo = GaussianNB()\n",
        "modelo.fit(X_treinamento, y_treinamento)\n",
        "\n",
        "# Realização de previsões\n",
        "previsoes = modelo.predict(X_teste)\n",
        "\n",
        "# Avaliação do modelo\n",
        "accuracy = accuracy_score(y_teste, previsoes)\n",
        "print(f\"\\nAcurácia do modelo: {accuracy * 100:.2f}%\")\n",
        "\n",
        "# Matriz de confusão\n",
        "cm = confusion_matrix(y_teste, previsoes)\n",
        "print(\"\\nMatriz de Confusão:\")\n",
        "print(cm)\n",
        "\n",
        "# Visualização da matriz de confusão\n",
        "sns.heatmap(cm, annot=True, fmt=\"d\", cmap=\"Blues\")\n",
        "plt.xlabel(\"Previsto\")\n",
        "plt.ylabel(\"Verdadeiro\")\n",
        "plt.title(\"Matriz de Confusão\")\n",
        "plt.show()\n",
        "\n",
        "# Percentual de acerto para cada classe\n",
        "acerto_paga = cm[0, 0] / (cm[0, 0] + cm[0, 1])\n",
        "acerto_nao_paga = cm[1, 1] / (cm[1, 0] + cm[1, 1])\n",
        "\n",
        "print(f\"\\nPercentual de acerto para pessoas que pagam o empréstimo: {acerto_paga * 100:.2f}%\")\n",
        "print(f\"Percentual de acerto para pessoas que não pagam o empréstimo: {acerto_nao_paga * 100:.2f}%\")\n"
      ]
    }
  ]
}